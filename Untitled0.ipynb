{
  "nbformat": 4,
  "nbformat_minor": 0,
  "metadata": {
    "colab": {
      "name": "Untitled0.ipynb",
      "provenance": []
    },
    "kernelspec": {
      "name": "python3",
      "display_name": "Python 3"
    }
  },
  "cells": [
    {
      "cell_type": "markdown",
      "metadata": {
        "id": "W39Rn_LODKSt",
        "colab_type": "text"
      },
      "source": [
        "# 初めてのノートブック\n",
        "\n",
        "**コードを書いてみましょ**\n"
      ]
    },
    {
      "cell_type": "code",
      "metadata": {
        "id": "VLouiGa-EpdD",
        "colab_type": "code",
        "outputId": "db022215-ed5a-4be9-8543-9af22f7c0974",
        "colab": {
          "base_uri": "https://localhost:8080/",
          "height": 34
        }
      },
      "source": [
        "# 計算する\n",
        "2*(3+4)"
      ],
      "execution_count": 0,
      "outputs": [
        {
          "output_type": "execute_result",
          "data": {
            "text/plain": [
              "14"
            ]
          },
          "metadata": {
            "tags": []
          },
          "execution_count": 8
        }
      ]
    },
    {
      "cell_type": "markdown",
      "metadata": {
        "id": "yhptAVyxGyGR",
        "colab_type": "text"
      },
      "source": [
        "\n",
        "\n",
        "```\n",
        "# first value: 1\n",
        "\n",
        "```\n",
        "\n"
      ]
    },
    {
      "cell_type": "code",
      "metadata": {
        "id": "69AGQBlPG3m0",
        "colab_type": "code",
        "outputId": "6ce2ad57-36b6-4406-83e2-a1464eea1e62",
        "colab": {
          "base_uri": "https://localhost:8080/",
          "height": 34
        }
      },
      "source": [
        "'''\n",
        "値を出力する\n",
        "'''\n",
        "print ('first value:',1)\n"
      ],
      "execution_count": 0,
      "outputs": [
        {
          "output_type": "stream",
          "text": [
            "first value: 1\n"
          ],
          "name": "stdout"
        }
      ]
    },
    {
      "cell_type": "markdown",
      "metadata": {
        "id": "gNPfwmFCHqDl",
        "colab_type": "text"
      },
      "source": [
        "**`sort`の関数を呼び出す**\n",
        "1. 以下のリストを作る\n",
        "```\n",
        "numbers = [4.3.2.1]\n",
        "```\n",
        "2. `sort()` の関数を使って、リストをノートする。\n",
        "3.`print`を使って、出力する。\n",
        "\n",
        "\n",
        "\n"
      ]
    },
    {
      "cell_type": "code",
      "metadata": {
        "id": "CbWwrk74KSd6",
        "colab_type": "code",
        "outputId": "71706ca8-f336-4691-bdf0-7f6df60818fd",
        "colab": {
          "base_uri": "https://localhost:8080/",
          "height": 34
        }
      },
      "source": [
        "numbers = [4,3,2,1]\n",
        "numbers.sort()\n",
        "print(numbers)\n"
      ],
      "execution_count": 0,
      "outputs": [
        {
          "output_type": "stream",
          "text": [
            "[1, 2, 3, 4]\n"
          ],
          "name": "stdout"
        }
      ]
    }
  ]
}